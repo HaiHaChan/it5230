{
 "cells": [
  {
   "cell_type": "code",
   "execution_count": 6,
   "metadata": {
    "collapsed": true
   },
   "outputs": [],
   "source": [
    "import pandas as pd \n",
    "import numpy as np\n",
    "from sklearn.metrics.pairwise import cosine_similarity\n",
    "from scipy import sparse \n",
    "from sklearn.model_selection import train_test_split\n",
    "import random\n",
    "\n",
    "class MF(object):\n",
    "    def __init__(self, Y, n_factors = 2, X = None, W = None, lamda = 0.1, lr = 2, n_epochs = 50, \n",
    "                 top = 10, filename = None):\n",
    "        if filename:\n",
    "            self.f = open(filename, 'a+')\n",
    "        self.Y = Y\n",
    "        self.lamda = lamda\n",
    "        self.n_factors = n_factors\n",
    "        self.lr = lr\n",
    "        self.n_epochs = n_epochs\n",
    "        self.top = top\n",
    "        self.users_count = int(np.max(self.Y[:, 0])) + 1\n",
    "        self.items_count = int(np.max(self.Y[:, 1])) + 1\n",
    "        self.ratings_count = Y.shape[0]\n",
    "        if X == None:\n",
    "            self.X = np.random.randn(self.items_count, n_factors)\n",
    "        if W == None:\n",
    "            self.W = np.random.randn(n_factors, self.users_count)\n",
    "        self.Ybar = self.Y.copy()\n",
    "        \n",
    "        self.bi = np.random.randn(self.items_count)\n",
    "        self.bu = np.random.randn(self.users_count)\n",
    "        self.n_ratings = self.Y.shape[0]\n",
    "    \n",
    "    def get_user_rated_item(self, i):\n",
    "        ids = np.where(i == self.Ybar[:, 1])[0].astype(int)\n",
    "        users = self.Ybar[ids, 0].astype(int)\n",
    "        ratings = self.Ybar[ids, 2]\n",
    "        \n",
    "        return (users, ratings)\n",
    "        \n",
    "\n",
    "    def get_item_rated_by_user(self, u):\n",
    "        ids = np.where(u == self.Ybar[:, 0])[0].astype(int)\n",
    "        items = self.Ybar[ids, 1].astype(int)\n",
    "        ratings = self.Ybar[ids, 2]\n",
    "        \n",
    "        return (items, ratings)\n",
    "    \n",
    "    def updateX(self):\n",
    "        for m in range(self.items_count):\n",
    "            users, ratings = self.get_user_rated_item(m)\n",
    "            Wm = self.W[:, users]\n",
    "            b = self.bu[users]\n",
    "            sum_grad_xm = np.full(shape = (self.X[m].shape) , fill_value = 1e-8)\n",
    "            sum_grad_bm = 1e-8\n",
    "            for i in range(50):\n",
    "                xm = self.X[m]\n",
    "                error = xm.dot(Wm) + self.bi[m] + b - ratings\n",
    "                grad_xm = error.dot(Wm.T)/self.n_ratings + self.lamda*xm\n",
    "                grad_bm = np.sum(error)/self.n_ratings\n",
    "                sum_grad_xm += grad_xm**2\n",
    "                sum_grad_bm += grad_bm**2\n",
    "                # gradient descent\n",
    "                self.X[m] -= self.lr*grad_xm.reshape(-1)/np.sqrt(sum_grad_xm)\n",
    "                self.bi[m] -= self.lr*grad_bm/np.sqrt(sum_grad_bm)\n",
    "        \n",
    "    def updateW(self):\n",
    "        for n in range(self.users_count):\n",
    "            items, ratings = self.get_item_rated_by_user(n)\n",
    "            Xn = self.X[items, :]\n",
    "            b = self.bi[items]\n",
    "            sum_grad_wn = np.full(shape = (self.W[:, n].shape) , fill_value = 1e-8).T\n",
    "            sum_grad_bn = 1e-8\n",
    "            for i in range(50):\n",
    "                wn = self.W[:, n]\n",
    "                error = Xn.dot(wn) + self.bu[n] + b - ratings\n",
    "                grad_wn = Xn.T.dot(error)/self.n_ratings + self.lamda*wn\n",
    "                grad_bn = np.sum(error)/self.n_ratings\n",
    "                sum_grad_wn += grad_wn**2\n",
    "                sum_grad_bn += grad_bn**2\n",
    "                # gradient descent\n",
    "                self.W[:, n] -= self.lr*grad_wn.reshape(-1)/np.sqrt(sum_grad_wn)\n",
    "                self.bu[n] -= self.lr*grad_bn/np.sqrt(sum_grad_bn)\n",
    "\n",
    "    def fit(self, x, data_size, Data_test, test_size = 0):\n",
    "        for i in range(self.n_epochs):\n",
    "            self.updateW()\n",
    "            self.updateX()\n",
    "            if (i + 1) % x == 0:\n",
    "                self.RMSE(Data_test,data_size = data_size, test_size = 0, p = i+1)\n",
    "#                 self.evaluate(data_size, Data_test, test_size = 0)\n",
    "            \n",
    "    def pred(self, u, i):\n",
    "        u = int(u)\n",
    "        i = int(i)\n",
    "        pred = self.X[i, :].dot(self.W[:, u]) + self.bi[i] + self.bu[u]\n",
    "        \n",
    "        return max(0, min(5, pred))\n",
    "    \n",
    "    def recommend(self, u):\n",
    "        ids = np.where(self.Y[:, 0] == u)[0].astype(int)\n",
    "        items_rated_by_user = self.Y[ids, 1].tolist()\n",
    "        a = np.zeros((self.items_count,))\n",
    "        recommended_items = []\n",
    "        pred = self.X.dot(self.W[:, u])\n",
    "        for i in range(self.items_count):\n",
    "            if i not in items_rated_by_user:\n",
    "                a[i] = pred[i] +self.bi[i] + self.bu[u]\n",
    "        if len(a) < self.top:\n",
    "            recommended_items = np.argsort(a)[-self.items_count:]\n",
    "        else:\n",
    "            recommended_items = np.argsort(a)[-self.top:]\n",
    "        recommended_items = np.where(a[:] > 0)[0].astype(int)\n",
    "\n",
    "#         return random.sample(list(recommended_items), self.top)\n",
    "        return recommended_items[:self.limit]\n",
    "#         return recommended_items\n",
    "    \n",
    "    def RMSE(self, Data_test, test_size = 0, data_size = '100K', p = 10):\n",
    "        n_tests = Data_test.shape[0]\n",
    "        SE = 0\n",
    "        for n in range(n_tests):\n",
    "            pred = self.pred(Data_test[n, 0], Data_test[n, 1])\n",
    "            SE += (pred - Data_test[n, 2])**2 \n",
    "        RMSE = np.sqrt(SE/n_tests)\n",
    "        \n",
    "        print('%s::1::%d::%d::%r::%r::%r\\r\\n' % (str(data_size), self.n_factors, self.n_epochs, self.lamda, self.lr, RMSE))\n",
    "        self.f.write('%s::1::%d::%d::%d::%r::%r::%r\\r\\n' % (str(data_size), self.n_factors, self.n_epochs, p, self.lamda, self.lr, RMSE))\n",
    "        \n",
    "        return RMSE\n",
    "    \n",
    "    def evaluate(self, data_size, Data_test, test_size = 0):\n",
    "        sum_p = 0\n",
    "        sum_r = 0\n",
    "        self.Pu = np.zeros((self.users_count,))\n",
    "        for u in range(self.users_count):\n",
    "            recommended_items = self.recommend(u)\n",
    "            ids = np.where(Data_test[:, 0] == u)[0]\n",
    "            rated_items = Data_test[ids, 1]\n",
    "            for i in recommended_items:\n",
    "                if i in rated_items:\n",
    "                    self.Pu[u] += 1\n",
    "            sum_p += self.Pu[u]\n",
    "        \n",
    "        p = sum_p/(self.users_count * self.limit)\n",
    "        r = sum_p/(Data_test.shape[0])\n",
    "        self.f.write('%s::1::%d::%d::%d::%r::%r::%r\\r\\n' % (str(data_size), self.top, self.n_factors, self.n_epochs, test_size, p, r))\n",
    "        \n",
    "        return p, r"
   ]
  },
  {
   "cell_type": "code",
   "execution_count": 7,
   "metadata": {
    "collapsed": true
   },
   "outputs": [],
   "source": [
    "r_cols = ['user_id', 'movie_id', 'rating', 'timestemp']\n",
    "\n",
    "ratings_base_1 = pd.read_csv('ml-100k/ua.base', sep='\\t', names=r_cols, encoding='latin-1', engine='python')\n",
    "ratings_test_1 = pd.read_csv('ml-100k/ua.test', sep='\\t', names=r_cols, encoding='latin-1', engine='python')\n",
    "\n",
    "rate_train = ratings_base_1.as_matrix()\n",
    "rate_test = ratings_test_1.as_matrix()\n",
    "\n",
    "rate_train[:, :2] -= 1\n",
    "rate_test[:, :2] -= 1"
   ]
  },
  {
   "cell_type": "code",
   "execution_count": 9,
   "metadata": {},
   "outputs": [
    {
     "name": "stdout",
     "output_type": "stream",
     "text": [
      "100K::1::2::20::0.01::0.1::0.9634817342439627\n",
      "\n",
      "100K::1::2::20::0.01::0.1::0.9634984986336697\n",
      "\n"
     ]
    }
   ],
   "source": [
    "# for i in [2, 4, 8, 16, 32, 64]:\n",
    "#     for j in [0.01, 0.1, 0.5, 1]:\n",
    "#         for k in [0.01, 0.1, 0.5, 0.75, 1, 2]: \n",
    "rs = MF(rate_train, n_factors = 2, lamda = 0.01, lr = 0.1, n_epochs= 20, filename = 'RMSE_100K_MF.dat')\n",
    "rs.fit(10, \"100K\", rate_test)\n",
    "rs.f.close()"
   ]
  },
  {
   "cell_type": "code",
   "execution_count": null,
   "metadata": {
    "collapsed": true
   },
   "outputs": [],
   "source": [
    "rs = MF2(rate_train, n_factors = 2, lamda = 1, lr = 0.1, n_epochs= 20)\n",
    "rs.fit(2, \"100K\", rate_test)\n",
    "for i in range(10, 510, 10):\n",
    "    rs.limit = i\n",
    "    rs.evaluate('100K', ratings_matrix)\n",
    "rs.f.close()"
   ]
  },
  {
   "cell_type": "code",
   "execution_count": null,
   "metadata": {
    "collapsed": true
   },
   "outputs": [],
   "source": [
    "r_cols = ['user_id', 'movie_id', 'rating', 'unix_timestamp']\n",
    "\n",
    "ratings_base = pd.read_csv('mvl_can/1M_train_01.dat', sep=':', names=r_cols, encoding='latin-1')\n",
    "ratings_test = pd.read_csv('mvl_can/1M_test_01.dat', sep=':', names=r_cols, encoding='latin-1')\n",
    "\n",
    "rate_train = ratings_base.as_matrix()\n",
    "rate_test = ratings_test.as_matrix()\n",
    "\n",
    "# # indices start from 0\n",
    "# rate_train[:, :2] -= 1\n",
    "# rate_test[:, :2] -= 1"
   ]
  },
  {
   "cell_type": "code",
   "execution_count": null,
   "metadata": {
    "collapsed": true
   },
   "outputs": [],
   "source": [
    "for i in [50, 60]:\n",
    "    for j in [0.01, 0.1, 0.5, 1]:\n",
    "        for k in [0.1, 0.5, 0.75, 1, 2]:\n",
    "            rs = MF(rate_train, n_factors = i, lamda = 0.1, lr = 0.1, n_epochs= 10)\n",
    "            rs.fit(10, data_size = \"1M\", Data_test = rate_test, test_size =0.1)\n",
    "            rs.f.close()"
   ]
  },
  {
   "cell_type": "code",
   "execution_count": null,
   "metadata": {
    "collapsed": true
   },
   "outputs": [],
   "source": [
    "rs = MF2(rate_train, n_factors = 2, lamda = 0.01, lr = 0.1, n_epochs= 10)\n",
    "rs.fit(1, data_size = \"1M\", Data_test = rate_test, test_size =0.1)"
   ]
  },
  {
   "cell_type": "code",
   "execution_count": null,
   "metadata": {
    "collapsed": true
   },
   "outputs": [],
   "source": [
    "for i in range(10, 510, 10):\n",
    "    rs.limit = i\n",
    "    rs.evaluate('1M', rate_test)\n",
    "rs.f.close()"
   ]
  }
 ],
 "metadata": {
  "kernelspec": {
   "display_name": "Python 3",
   "language": "python",
   "name": "python3"
  },
  "language_info": {
   "codemirror_mode": {
    "name": "ipython",
    "version": 3
   },
   "file_extension": ".py",
   "mimetype": "text/x-python",
   "name": "python",
   "nbconvert_exporter": "python",
   "pygments_lexer": "ipython3",
   "version": "3.6.3"
  }
 },
 "nbformat": 4,
 "nbformat_minor": 2
}
