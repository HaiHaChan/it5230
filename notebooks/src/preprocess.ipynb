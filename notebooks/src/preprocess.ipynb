{
 "cells": [
  {
   "cell_type": "code",
   "execution_count": 1,
   "metadata": {
    "collapsed": true
   },
   "outputs": [],
   "source": [
    "import pandas as pd \n",
    "import numpy as np\n",
    "from sklearn.model_selection import train_test_split\n",
    "\n",
    "r_cols = ['user_id', 'movie_id', 'rating', 'timestemp']"
   ]
  },
  {
   "cell_type": "code",
   "execution_count": 2,
   "metadata": {},
   "outputs": [
    {
     "data": {
      "text/plain": [
       "10000054"
      ]
     },
     "execution_count": 2,
     "metadata": {},
     "output_type": "execute_result"
    }
   ],
   "source": [
    "ratings_base_2 = pd.read_csv('mvl/10M.dat', sep='::', names=r_cols, encoding='latin-1', engine='python')\n",
    "ratings_matrix_2= ratings_base_2.as_matrix()\n",
    "ratings_matrix_2[:, :2] -= 1\n",
    "ratings_matrix_2.shape[0]\n",
    "# testSize = 0.3\n",
    "# Data_train_2, Data_test_2= train_test_split(ratings_matrix_2, test_size = testSize, random_state = 5)\n",
    "\n",
    "# ratings_base_3 = pd.read_csv('mvl/10M.dat', sep='::', names=r_cols, encoding='latin-1', engine='python')\n",
    "# ratings_matrix_3 = ratings_base_3.as_matrix()\n",
    "# ratings_matrix_3[:, :2] -= 1\n",
    "# testSize = 0.1\n",
    "# Data_train_3, Data_test_3= train_test_split(ratings_matrix_3, test_size = testSize, random_state = 5)\n",
    "\n",
    "# ratings_base_4 = pd.read_csv('mvl/20M.csv', names=r_cols, encoding='latin-1', engine='python')\n",
    "# ratings_matrix_4 = ratings_base_4.as_matrix()\n",
    "# ratings_matrix_4[:, :2] -= 1\n",
    "# testSize = 0.5\n",
    "# Data_train_4, Data_test_4= train_test_split(ratings_matrix_4, test_size=testSize, random_state = 5)"
   ]
  },
  {
   "cell_type": "code",
   "execution_count": 20,
   "metadata": {
    "collapsed": true
   },
   "outputs": [],
   "source": [
    "df = pd.DataFrame(Data_train_3, columns= r_cols)"
   ]
  },
  {
   "cell_type": "code",
   "execution_count": 21,
   "metadata": {
    "collapsed": true
   },
   "outputs": [],
   "source": [
    "df.to_csv('mvl_can/10M_train_01.dat', sep=':',  encoding='latin-1', index=False, header=False, )"
   ]
  },
  {
   "cell_type": "code",
   "execution_count": 22,
   "metadata": {
    "collapsed": true
   },
   "outputs": [],
   "source": [
    "dft = pd.DataFrame(Data_test_3, columns= r_cols)\n",
    "dft.to_csv('mvl_can/10M_test_01.dat', sep=':', encoding= 'latin-1', index=False, header=False)"
   ]
  },
  {
   "cell_type": "code",
   "execution_count": 3,
   "metadata": {},
   "outputs": [
    {
     "name": "stderr",
     "output_type": "stream",
     "text": [
      "/home/tran.thi.hai.ha/anaconda3/lib/python3.6/site-packages/ipykernel_launcher.py:19: DeprecationWarning: in the future out of bounds indices will raise an error instead of being ignored by `numpy.delete`.\n"
     ]
    }
   ],
   "source": [
    "\n",
    "# n = Data_train_2.shape[0]\n",
    "# Data_train_2 = Data_train_2.tolist()\n",
    "# for i in range(n):\n",
    "#     f1.write('%d::%d::%r\\r\\n' % (Data_train_2[i][0], Data_train_2[i][1], Data_train_2[i][2]))\n",
    "# f1.close()\n",
    "\n",
    "f1 = open('10M_train1.dat', 'a+')\n",
    "f2 = open('10M_test1.dat', 'a+')\n",
    "us = (np.max(ratings_matrix_2[:, 0]) + 1).astype(int)\n",
    "Y = ratings_matrix_2.copy()\n",
    "users = ratings_matrix_2[:, 0]\n",
    "ratings = ratings_matrix_2[:, 2]\n",
    "for u in range(us):\n",
    "    ids = np.where((u == users) & (ratings >= 4))[0].astype(int)\n",
    "    test_ids = ids[:(ids.shape[0]//2)]\n",
    "    dft = pd.DataFrame(ratings_matrix_2[test_ids], columns= r_cols)\n",
    "    dft.to_csv(f2, sep=':',  encoding='latin-1', index=False, header=False)\n",
    "    Y = np.delete(Y, test_ids, 0)\n",
    "\n",
    "df = pd.DataFrame(Y, columns= r_cols)\n",
    "df.to_csv(f1, sep=':',  encoding='latin-1', index=False, header=False)\n",
    "f1.close()\n",
    "f2.close()"
   ]
  },
  {
   "cell_type": "code",
   "execution_count": null,
   "metadata": {
    "collapsed": true
   },
   "outputs": [],
   "source": []
  }
 ],
 "metadata": {
  "kernelspec": {
   "display_name": "Python 3",
   "language": "python",
   "name": "python3"
  },
  "language_info": {
   "codemirror_mode": {
    "name": "ipython",
    "version": 3
   },
   "file_extension": ".py",
   "mimetype": "text/x-python",
   "name": "python",
   "nbconvert_exporter": "python",
   "pygments_lexer": "ipython3",
   "version": "3.6.3"
  }
 },
 "nbformat": 4,
 "nbformat_minor": 2
}
