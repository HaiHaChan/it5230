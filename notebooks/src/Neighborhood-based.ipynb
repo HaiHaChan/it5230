{
 "cells": [
  {
   "cell_type": "code",
   "execution_count": null,
   "metadata": {
    "collapsed": true
   },
   "outputs": [],
   "source": [
    "import pandas as pd \n",
    "import numpy as np\n",
    "from sklearn.metrics.pairwise import cosine_similarity\n",
    "from scipy import sparse\n",
    "from sklearn.model_selection import train_test_split\n",
    "\n",
    "class NBCF(object):\n",
    "    def __init__(self, Y, k, uuCF = 1, dist_f = cosine_similarity, limit = 10):\n",
    "        self.uuCF = uuCF\n",
    "        self.f = open('danhgiaNBCF.dat', 'a+')\n",
    "        self.Y = Y if uuCF else Y[:, [1, 0, 2]]\n",
    "        self.Ybar = None\n",
    "        self.k = k\n",
    "        self.limit = limit\n",
    "        self.dist_func = dist_f\n",
    "        self.users_count = int(np.max(self.Y[:, 0])) + 1\n",
    "        self.items_count = int(np.max(self.Y[:, 1])) + 1\n",
    "        self.Pu = None\n",
    "        self.Ru = None\n",
    "    \n",
    "    def normalizeY(self):\n",
    "        users = self.Y[:, 0]\n",
    "        self.Ybar = self.Y.copy()\n",
    "        self.mu = np.zeros((self.users_count,))\n",
    "        for i in range(self.users_count):\n",
    "            ids = np.where(users == i)[0].astype(int)\n",
    "            ratings = self.Y[ids, 2]\n",
    "            m = np.mean(ratings)\n",
    "            if np.isnan(m):\n",
    "                m = 0\n",
    "            self.mu[i] = m\n",
    "            self.Ybar[ids, 2] = ratings - self.mu[i]\n",
    "        self.Ybar = sparse.coo_matrix((self.Ybar[:, 2],\n",
    "            (self.Ybar[:, 1], self.Ybar[:, 0])), (self.items_count, self.users_count))\n",
    "        self.Ybar = self.Ybar.tocsr()\n",
    "        \n",
    "    def similarity(self):\n",
    "        self.S = self.dist_func(self.Ybar.T, self.Ybar.T)\n",
    "    \n",
    "    def fit(self):\n",
    "        self.normalizeY()\n",
    "        self.similarity()\n",
    "    \n",
    "    def pred(self, u, i, normalized = 1):\n",
    "        ids = np.where(self.Y[:, 1] == i)[0].astype(int)\n",
    "        if ids == []:\n",
    "            return 0\n",
    "        users = (self.Y[ids, 0]).astype(int)\n",
    "        sim = self.S[u, users]\n",
    "        a = np.argsort(sim)[-self.k:]\n",
    "        nearest = sim[a]\n",
    "        r = self.Ybar[i, users[a]]\n",
    "        \n",
    "        if normalized:\n",
    "            return (r*nearest)[0]/(np.abs(nearest).sum() + 1e-8)\n",
    "\n",
    "        return (r*nearest)[0]/(np.abs(nearest).sum() + 1e-8) + self.mu[u]\n",
    "        \n",
    "        \n",
    "    def _pred(self, u, i, normalized = 1):\n",
    "        if self.uuCF: return self.pred(u, i, normalized)\n",
    "        return self.pred(i, u, normalized)\n",
    "    \n",
    "    def RMSE(self, data_size, Data_test, test_size = 0):\n",
    "        SE = 0\n",
    "        n_tests = Data_test.shape[0]\n",
    "        for n in range(n_tests):\n",
    "            if Data_test[n, 1] == 1681:\n",
    "                pred = 0\n",
    "            else:\n",
    "                pred = self._pred(Data_test[n, 0], Data_test[n, 1], normalized = 0)\n",
    "            SE += (pred - Data_test[n, 2])**2 \n",
    "\n",
    "        RMSE = np.sqrt(SE/n_tests)\n",
    "\n",
    "        print('%s::%d::%d::cosine_similarity::%r::%r\\r\\n' % (str(data_size), self.uuCF, self.k, test_size, RMSE))\n",
    "        self.f.write('%s::%d::%d::cosine_similarity::%r::%r\\r\\n' % (str(data_size), self.uuCF, self.k, test_size, RMSE))\n",
    "        \n",
    "    def recommend(self, u):\n",
    "        if self.uuCF:\n",
    "            ids = np.where(self.Y[:, 0] == u)[0].astype(int)\n",
    "            items_rated_by_user = self.Y[ids, 1].tolist()\n",
    "            n = self.items_count\n",
    "        else:\n",
    "            ids = np.where(self.Y[:, 1] == u)[0].astype(int)\n",
    "            items_rated_by_user = self.Y[ids, 0].tolist()\n",
    "            n = self.users_count\n",
    "        a = np.zeros((n,))\n",
    "        recommended_items = []\n",
    "        for i in range(n):\n",
    "            if i not in items_rated_by_user:\n",
    "                a[i] = self._pred(u, i)\n",
    "        if len(a) < self.limit:\n",
    "            recommended_items = np.argsort(a)[-len(a):]\n",
    "        else:\n",
    "            recommended_items = np.argsort(a)[-self.limit:]\n",
    "        return recommended_items\n",
    "        \n",
    "    def evaluate(self, data_size, Data_test, test_size = 0):\n",
    "        sum_p = 0\n",
    "        n = self.users_count if self.uuCF else self.items_count\n",
    "        self.Pu = np.zeros((n,))\n",
    "        for u in range(n):\n",
    "            recommended_items = self.recommend(u)\n",
    "            ids = np.where(Data_test[:, 0] == u)[0]\n",
    "            rated_items = Data_test[ids, 1]\n",
    "            for i in recommended_items:\n",
    "                if i in rated_items:\n",
    "                    self.Pu[u] += 1\n",
    "            sum_p += self.Pu[u]\n",
    "        p = sum_p/(n * self.limit)\n",
    "        r = sum_p/(Data_test.shape[0] + 1)\n",
    "        print('%s::%d::%d::cosine_similarity::%r::%r\\r\\n' % (str(data_size), self.uuCF, self.limit, p, r))\n",
    "        self.f.write('%s::%d::%d::cosine_similarity::%r::%r\\r\\n' % (str(data_size), self.uuCF, self.limit, p, r))\n"
   ]
  },
  {
   "cell_type": "code",
   "execution_count": null,
   "metadata": {
    "collapsed": true
   },
   "outputs": [],
   "source": [
    "from scipy.stats.stats import pearsonr\n",
    "\n",
    "def pearson(X, Y = None):\n",
    "    x = X.shape[0]\n",
    "    y = X.shape[1]\n",
    "    a = np.zeros((x, x))\n",
    "    u = np.zeros((x, y))\n",
    "    temp = 0\n",
    "    \n",
    "    for i in range(x):\n",
    "        for j in range(y):\n",
    "            u[i][j] = X[i, j]\n",
    "    for i in range(x):\n",
    "        for j in range(x):\n",
    "            temp = pearsonr(u[i], u[j])[0]\n",
    "            a[i][j] =  temp if not np.isnan(temp) else 0\n",
    "    \n",
    "    return a"
   ]
  },
  {
   "cell_type": "code",
   "execution_count": null,
   "metadata": {
    "collapsed": true
   },
   "outputs": [],
   "source": [
    "r_cols = ['user_id', 'movie_id', 'rating', 'unix_timestamp']\n",
    "\n",
    "ratings_base = pd.read_csv('ml-100k/ub.base', sep='\\t', names=r_cols, encoding='latin-1')\n",
    "ratings_test = pd.read_csv('ml-100k/ub.test', sep='\\t', names=r_cols, encoding='latin-1')\n",
    "\n",
    "rate_train = ratings_base.as_matrix()\n",
    "rate_test = ratings_test.as_matrix()\n",
    "\n",
    "# indices start from 0\n",
    "rate_train[:, :2] -= 1\n",
    "rate_test[:, :2] -= 1"
   ]
  },
  {
   "cell_type": "code",
   "execution_count": 8,
   "metadata": {},
   "outputs": [
    {
     "name": "stderr",
     "output_type": "stream",
     "text": [
      "/home/tran.thi.hai.ha/anaconda3/lib/python3.6/site-packages/ipykernel_launcher.py:46: DeprecationWarning: elementwise comparison failed; this will raise an error in the future.\n",
      "/home/tran.thi.hai.ha/anaconda3/lib/python3.6/site-packages/ipykernel_launcher.py:46: DeprecationWarning: The truth value of an empty array is ambiguous. Returning False, but in future this will result in an error. Use `array.size > 0` to check that an array is not empty.\n"
     ]
    },
    {
     "name": "stdout",
     "output_type": "stream",
     "text": [
      "100K::1::30::cosine_similarity::0::0.9951981100882598\r\n",
      "\n"
     ]
    }
   ],
   "source": [
    "rs = NBCF(rate_train, k = 30, uuCF = 1)\n",
    "rs.fit()\n",
    "rs.RMSE('100K', rate_test)\n",
    "rs.f.close()"
   ]
  },
  {
   "cell_type": "code",
   "execution_count": null,
   "metadata": {
    "collapsed": true
   },
   "outputs": [],
   "source": []
  },
  {
   "cell_type": "code",
   "execution_count": null,
   "metadata": {
    "collapsed": true
   },
   "outputs": [],
   "source": [
    "for j in range(410, 510, 10):\n",
    "    rs.limit = j\n",
    "    rs.evaluate('100K', rate_test)\n",
    "rs.f.close()"
   ]
  },
  {
   "cell_type": "code",
   "execution_count": null,
   "metadata": {
    "collapsed": true
   },
   "outputs": [],
   "source": [
    "rs2 = NBCF(rate_train, k = 20, uuCF = 0, dist_f=pearson)\n",
    "rs2.fit()\n",
    "rs2.evaluate('100K', rate_test)"
   ]
  },
  {
   "cell_type": "code",
   "execution_count": null,
   "metadata": {
    "collapsed": true
   },
   "outputs": [],
   "source": []
  },
  {
   "cell_type": "code",
   "execution_count": null,
   "metadata": {
    "collapsed": true
   },
   "outputs": [],
   "source": [
    "for j in range(500, 410, -10):\n",
    "    rs2.limit = j\n",
    "    rs2.evaluate('100K', rate_test)\n",
    "rs2.f.close()"
   ]
  },
  {
   "cell_type": "code",
   "execution_count": null,
   "metadata": {
    "collapsed": true
   },
   "outputs": [],
   "source": [
    "r_cols = ['user_id', 'movie_id', 'rating', 'unix_timestamp']\n",
    "\n",
    "ratings_base = pd.read_csv('mvl_can/1M_train_01.dat', sep=':', names=r_cols, encoding='latin-1')\n",
    "ratings_test = pd.read_csv('mvl_can/1M_test_01.dat', sep=':', names=r_cols, encoding='latin-1')\n",
    "\n",
    "rate_train = ratings_base.as_matrix()\n",
    "rate_test = ratings_test.as_matrix()"
   ]
  },
  {
   "cell_type": "code",
   "execution_count": null,
   "metadata": {
    "collapsed": true
   },
   "outputs": [],
   "source": [
    "rs = NBCF(rate_train, k = 30)\n",
    "rs.fit()"
   ]
  },
  {
   "cell_type": "code",
   "execution_count": null,
   "metadata": {
    "collapsed": true
   },
   "outputs": [],
   "source": [
    "for i in range(1, 25, 1):\n",
    "    rs.k = i\n",
    "    rs.RMSE('1M', rate_test)"
   ]
  }
 ],
 "metadata": {
  "kernelspec": {
   "display_name": "Python 3",
   "language": "python",
   "name": "python3"
  },
  "language_info": {
   "codemirror_mode": {
    "name": "ipython",
    "version": 3
   },
   "file_extension": ".py",
   "mimetype": "text/x-python",
   "name": "python",
   "nbconvert_exporter": "python",
   "pygments_lexer": "ipython3",
   "version": "3.6.3"
  }
 },
 "nbformat": 4,
 "nbformat_minor": 2
}
