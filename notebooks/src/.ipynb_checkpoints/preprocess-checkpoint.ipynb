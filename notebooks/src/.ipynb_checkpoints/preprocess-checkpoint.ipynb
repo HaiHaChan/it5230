{
 "cells": [
  {
   "cell_type": "code",
   "execution_count": 1,
   "metadata": {
    "collapsed": true
   },
   "outputs": [],
   "source": [
    "import pandas as pd \n",
    "import numpy as np\n",
    "from sklearn.model_selection import train_test_split\n",
    "\n",
    "r_cols = ['user_id', 'movie_id', 'rating', 'timestemp']"
   ]
  },
  {
   "cell_type": "code",
   "execution_count": 2,
   "metadata": {
    "collapsed": true
   },
   "outputs": [],
   "source": [
    "ratings_base_2 = pd.read_csv('mvl/1M.dat', sep='::', names=r_cols, encoding='latin-1', engine='python')\n",
    "ratings_matrix_2= ratings_base_2.as_matrix()\n",
    "ratings_matrix_2[:, :2] -= 1\n",
    "# testSize = 0.3\n",
    "# Data_train_2, Data_test_2= train_test_split(ratings_matrix_2, test_size = testSize, random_state = 5)\n",
    "\n",
    "# ratings_base_3 = pd.read_csv('mvl/10M.dat', sep='::', names=r_cols, encoding='latin-1', engine='python')\n",
    "# ratings_matrix_3 = ratings_base_3.as_matrix()\n",
    "# ratings_matrix_3[:, :2] -= 1\n",
    "# testSize = 0.1\n",
    "# Data_train_3, Data_test_3= train_test_split(ratings_matrix_3, test_size = testSize, random_state = 5)\n",
    "\n",
    "# ratings_base_4 = pd.read_csv('mvl/20M.csv', names=r_cols, encoding='latin-1', engine='python')\n",
    "# ratings_matrix_4 = ratings_base_4.as_matrix()\n",
    "# ratings_matrix_4[:, :2] -= 1\n",
    "# testSize = 0.5\n",
    "# Data_train_4, Data_test_4= train_test_split(ratings_matrix_4, test_size=testSize, random_state = 5)"
   ]
  },
  {
   "cell_type": "code",
   "execution_count": 20,
   "metadata": {
    "collapsed": true
   },
   "outputs": [],
   "source": [
    "df = pd.DataFrame(Data_train_3, columns= r_cols)"
   ]
  },
  {
   "cell_type": "code",
   "execution_count": 21,
   "metadata": {
    "collapsed": true
   },
   "outputs": [],
   "source": [
    "df.to_csv('mvl_can/10M_train_01.dat', sep=':',  encoding='latin-1', index=False, header=False)"
   ]
  },
  {
   "cell_type": "code",
   "execution_count": 22,
   "metadata": {
    "collapsed": true
   },
   "outputs": [],
   "source": [
    "dft = pd.DataFrame(Data_test_3, columns= r_cols)\n",
    "dft.to_csv('mvl_can/10M_test_01.dat', sep=':', encoding= 'latin-1', index=False, header=False)"
   ]
  },
  {
   "cell_type": "code",
   "execution_count": 11,
   "metadata": {},
   "outputs": [
    {
     "name": "stdout",
     "output_type": "stream",
     "text": [
      "[[        0      1192         5 978300760]\n",
      " [        0      3407         4 978300275]\n",
      " [        0      2354         5 978824291]\n",
      " [        0      1286         5 978302039]\n",
      " [        0      2803         5 978300719]\n",
      " [        0       593         4 978302268]\n",
      " [        0       918         4 978301368]\n",
      " [        0       594         5 978824268]\n",
      " [        0       937         4 978301752]\n",
      " [        0      2397         4 978302281]\n",
      " [        0      2917         4 978302124]\n",
      " [        0      1034         5 978301753]\n",
      " [        0      2790         4 978302188]\n",
      " [        0      2017         4 978301777]\n",
      " [        0      3104         5 978301713]\n",
      " [        0      2796         4 978302039]\n",
      " [        0      1269         5 978300055]\n",
      " [        0       526         5 978824195]\n",
      " [        0        47         5 978824351]\n",
      " [        0      1096         4 978301953]\n",
      " [        0      1720         4 978300055]\n",
      " [        0      1544         4 978824139]]\n",
      "[[        1      1356         5 978298709]\n",
      " [        1      3067         4 978299000]\n",
      " [        1      1536         4 978299620]\n",
      " [        1      2193         4 978299297]\n",
      " [        1       647         4 978299913]\n",
      " [        1      2267         5 978299297]\n",
      " [        1      3467         5 978298542]\n",
      " [        1      1209         4 978298151]\n",
      " [        1      3577         5 978298958]\n",
      " [        1      3029         4 978298434]\n",
      " [        1      3104         4 978298673]\n",
      " [        1      3034         4 978298625]\n",
      " [        1      1609         5 978299809]\n",
      " [        1      2235         5 978299220]\n",
      " [        1      3070         4 978299120]\n",
      " [        1       367         4 978300002]\n",
      " [        1      1258         5 978298841]\n",
      " [        1      3146         5 978298652]\n",
      " [        1      1543         4 978300174]\n",
      " [        1      1292         5 978298261]\n",
      " [        1      1187         4 978299620]\n",
      " [        1      3254         4 978299321]\n",
      " [        1       109         5 978298625]\n",
      " [        1      1833         4 978298813]\n",
      " [        1      3470         5 978298814]\n",
      " [        1       588         4 978299773]\n",
      " [        1      1944         5 978298458]\n",
      " [        1       981         4 978299269]\n",
      " [        1      1872         4 978298542]\n",
      " [        1      2857         4 978298434]\n",
      " [        1      1224         5 978298391]\n",
      " [        1      2027         4 978299773]\n",
      " [        1       514         5 978298542]\n",
      " [        1       264         4 978299026]\n",
      " [        1       479         5 978299809]\n",
      " [        1      1441         4 978299297]]\n"
     ]
    }
   ],
   "source": [
    "us = (np.max(ratings_matrix_2[:, 0]) + 1).astype(int)\n",
    "users = ratings_matrix_2[:, 0]\n",
    "ratings = ratings_matrix_2[:, 2]\n",
    "test =  None\n",
    "for u in range(2):\n",
    "    ids = np.where((u == users) & (ratings >= 4))[0].astype(int)\n",
    "    test_ids = ids[:(ids.shape[0]//3)]\n",
    "    print(ratings_matrix_2[test_ids])\n",
    "        "
   ]
  },
  {
   "cell_type": "code",
   "execution_count": null,
   "metadata": {
    "collapsed": true
   },
   "outputs": [],
   "source": []
  }
 ],
 "metadata": {
  "kernelspec": {
   "display_name": "Python 3",
   "language": "python",
   "name": "python3"
  },
  "language_info": {
   "codemirror_mode": {
    "name": "ipython",
    "version": 3
   },
   "file_extension": ".py",
   "mimetype": "text/x-python",
   "name": "python",
   "nbconvert_exporter": "python",
   "pygments_lexer": "ipython3",
   "version": "3.6.3"
  }
 },
 "nbformat": 4,
 "nbformat_minor": 2
}
