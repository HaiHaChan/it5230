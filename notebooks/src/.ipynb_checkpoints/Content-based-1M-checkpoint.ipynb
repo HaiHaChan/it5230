{
 "cells": [
  {
   "cell_type": "code",
   "execution_count": null,
   "metadata": {
    "collapsed": true
   },
   "outputs": [],
   "source": [
    "import pandas as pd\n",
    "import numpy as np\n",
    "from sklearn.feature_extraction.text import TfidfTransformer\n",
    "from sklearn.linear_model import Ridge\n",
    "from sklearn import linear_model"
   ]
  },
  {
   "cell_type": "code",
   "execution_count": null,
   "metadata": {},
   "outputs": [],
   "source": [
    "u_cols =  ['user_id', 'sex', 'age', 'occupation', 'zip_code']\n",
    "users = pd.read_csv('ml-1m/users.dat', sep='::', names=u_cols,\n",
    " encoding='latin-1')\n",
    "n_users = users.shape[0]\n",
    "\n",
    "r_cols = ['user_id', 'movie_id', 'rating', 'unix_timestamp']\n",
    "\n",
    "ratings_base = pd.read_csv('mvl_can/1M_train_01.dat', sep=':', names=r_cols, encoding='latin-1')\n",
    "ratings_test = pd.read_csv('mvl_can/1M_test_01.dat', sep=':', names=r_cols, encoding='latin-1')\n",
    "\n",
    "rate_train = ratings_base.as_matrix()\n",
    "rate_test = ratings_test.as_matrix()\n",
    "\n",
    "i_cols = ['movie id', 'title' ,'year', 'gen']\n",
    "n_items = 3951\n",
    "\n",
    "items = pd.read_csv('ml-1m/movies.dat', sep='::', names=i_cols, encoding='latin-1')\n",
    "X = items.as_matrix()\n",
    "X_train_count = np.full(shape = (n_items, 19), fill_value = 0)"
   ]
  },
  {
   "cell_type": "code",
   "execution_count": null,
   "metadata": {},
   "outputs": [],
   "source": [
    "genresList = [\n",
    "  \"Action\",\n",
    "  \"Adventure\",\n",
    "  \"Animation\",\n",
    "  \"Children\",\n",
    "  \"Comedy\",\n",
    "  \"Crime\",\n",
    "  \"Documentary\",\n",
    "  \"Drama\",\n",
    "  \"Fantasy\",\n",
    "  \"Film-Noir\",\n",
    "  \"Horror\",\n",
    "  \"Musical\",\n",
    "  \"Mystery\",\n",
    "  \"Romance\",\n",
    "  \"Sci-Fi\",\n",
    "  \"Thriller\",\n",
    "  \"War\",\n",
    "  \"Western\",\n",
    "  \"(no genres listed)\"\n",
    "]\n",
    "\n",
    "def setGenresMatrix(genres):\n",
    "    movieGenresMatrix = []\n",
    "    movieGenresList = genres.split('|')\n",
    "    for x in genresList:\n",
    "        if (x in movieGenresList):\n",
    "            movieGenresMatrix.append(1)\n",
    "        else:\n",
    "            movieGenresMatrix.append(0)\n",
    "    return movieGenresMatrix\n",
    "for i in range(n_items):\n",
    "#     iid = (np.where(X[:, 0] == i + 1)[0]).astype(int)\n",
    "\n",
    "#     if (len(iid) > 0) or :\n",
    "    X_train_count[i] = setGenresMatrix(X[i+1, 3])\n",
    "X_train_count[0]"
   ]
  },
  {
   "cell_type": "code",
   "execution_count": null,
   "metadata": {},
   "outputs": [],
   "source": [
    "transformer = TfidfTransformer(smooth_idf=True, norm ='l2')\n",
    "tfidf = transformer.fit_transform(X_train_count.tolist()).toarray()\n"
   ]
  },
  {
   "cell_type": "code",
   "execution_count": null,
   "metadata": {
    "collapsed": true
   },
   "outputs": [],
   "source": [
    "def get_items_rated_by_user(rate, user_id):\n",
    "    y = rate[:,0]\n",
    "    ids = np.where(y == user_id + 1)[0]\n",
    "    item_ids = rate[ids, 1] - 1\n",
    "    scores = rate[ids, 2]\n",
    "    return (item_ids, scores)"
   ]
  },
  {
   "cell_type": "code",
   "execution_count": null,
   "metadata": {
    "collapsed": true
   },
   "outputs": [],
   "source": [
    "def evaluate(Yhat, rates, W, b):\n",
    "    se = 0\n",
    "    cnt = 0\n",
    "    for n in range(n_users):\n",
    "        ids, scores_truth = get_items_rated_by_user(rates, n)\n",
    "        scores_pred = Yhat[ids, n]\n",
    "        e = scores_truth - scores_pred \n",
    "        se += (e*e).sum(axis = 0)\n",
    "        cnt += e.size \n",
    "    return np.sqrt(se/cnt)"
   ]
  },
  {
   "cell_type": "code",
   "execution_count": null,
   "metadata": {
    "collapsed": true
   },
   "outputs": [],
   "source": [
    "d = tfidf.shape[1] # data dimension\n",
    "W = np.zeros((d, n_users))\n",
    "b = np.zeros((1, n_users))"
   ]
  },
  {
   "cell_type": "code",
   "execution_count": null,
   "metadata": {},
   "outputs": [],
   "source": [
    "for i in np.arange(0.01, 1, 0.01):\n",
    "    for n in range(n_users):    \n",
    "        ids, scores = get_items_rated_by_user(rate_train, n)\n",
    "        clf = Ridge(alpha=i, fit_intercept  = True)\n",
    "        Xhat = tfidf[ids, :]\n",
    "        \n",
    "        clf.fit(Xhat, scores)\n",
    "        W[:, n] = clf.coef_\n",
    "        b[0, n] = clf.intercept_\n",
    "    Yhat = tfidf.dot(W) + b\n",
    "    print(str(i) + '::' + str(evaluate(Yhat, rate_test, W, b)))"
   ]
  }
 ],
 "metadata": {
  "kernelspec": {
   "display_name": "Python 3",
   "language": "python",
   "name": "python3"
  },
  "language_info": {
   "codemirror_mode": {
    "name": "ipython",
    "version": 3
   },
   "file_extension": ".py",
   "mimetype": "text/x-python",
   "name": "python",
   "nbconvert_exporter": "python",
   "pygments_lexer": "ipython3",
   "version": "3.6.3"
  }
 },
 "nbformat": 4,
 "nbformat_minor": 2
}
